{
 "cells": [
  {
   "cell_type": "markdown",
   "metadata": {},
   "source": [
    "# ginput"
   ]
  },
  {
   "cell_type": "code",
   "execution_count": null,
   "metadata": {},
   "outputs": [],
   "source": [
    "# Might have to execute this block TWICE (for some reason)\n",
    "import numpy as np\n",
    "from scipy.interpolate import make_interp_spline\n",
    "import matplotlib.pyplot as plt_char_1\n",
    "import matplotlib.pyplot as plt_char_2\n",
    "import matplotlib.pyplot as plt_char_3\n",
    "import matplotlib.pyplot as plt_display_original\n",
    "import matplotlib.pyplot as plt_display_smooth\n"
   ]
  },
  {
   "cell_type": "markdown",
   "metadata": {},
   "source": [
    "## Choose just one of these two"
   ]
  },
  {
   "cell_type": "code",
   "execution_count": null,
   "metadata": {},
   "outputs": [],
   "source": [
    "%matplotlib qt\n",
    "plt_char_1.ion()\n",
    "plt_char_2.ion()\n",
    "plt_char_3.ion()\n",
    "plt_display_original.ion()\n",
    "plt_display_smooth.ion()\n"
   ]
  },
  {
   "cell_type": "code",
   "execution_count": null,
   "metadata": {},
   "outputs": [],
   "source": [
    "%matplotlib osx\n",
    "plt_char_1.ion()\n",
    "plt_char_2.ion()\n",
    "plt_char_3.ion()\n",
    "plt_display_original.ion()\n",
    "plt_display_smooth.ion()"
   ]
  },
  {
   "cell_type": "markdown",
   "metadata": {},
   "source": [
    "## Click to enter points"
   ]
  },
  {
   "cell_type": "markdown",
   "metadata": {},
   "source": [
    "## And here is what you clicked for CHARACTER 1"
   ]
  },
  {
   "cell_type": "code",
   "execution_count": null,
   "metadata": {},
   "outputs": [],
   "source": [
    "c_plt_char_1=1;\n",
    "i=0\n",
    "\n",
    "while (1):\n",
    "\n",
    "    i+=1\n",
    "    print(\"i\")\n",
    "    print(i)\n",
    "    print(\"\\n\")\n",
    "    c_plt_char_1=0;\n",
    "    \n",
    "    \n",
    "    plt_char_1.figure('original')\n",
    "    plt_char_1.plot([i,5],[0,5], 'w.')\n",
    "\n",
    "    c_plt_char_1 = plt_char_1.ginput(100, mouse_stop=2, timeout=20)\n",
    "    plt_char_1.draw()\n",
    "    \n",
    "    if(c_plt_char_1==0):\n",
    "        break\n",
    "\n",
    "\n",
    "\n",
    "    print(c_plt_char_1)\n",
    "\n",
    "    #tuple_list example= [(\"a\", \"b\"),(\"c\", \"d\")]\n",
    "    try:\n",
    "        x = []\n",
    "        y = []\n",
    "\n",
    "        for xy_tuple in c_plt_char_1:\n",
    "            x.append(xy_tuple[0])\n",
    "            y.append(xy_tuple[1])\n",
    "\n",
    "        print(x)\n",
    "        print(y)\n",
    "        n = len(x)\n",
    "\n",
    "        t=[]\n",
    "        t.append(0)\n",
    "\n",
    "        def nums(first_number, last_number, step=1):\n",
    "            return range(first_number, last_number+1, step)\n",
    "\n",
    "        for i in range(n-1):\n",
    "            t.append( t[i] + ( (x[i+1] - x[i])**2 + (y[i+1] - y[i])**2 )**(0.5) )\n",
    "\n",
    "\n",
    "        print(t)\n",
    "\n",
    "        if (c_plt_char_1==0) and (x.size != y.shape[0]):\n",
    "            break\n",
    "\n",
    "        x_t = make_interp_spline(t, x)\n",
    "        y_t = make_interp_spline(t, y)\n",
    "\n",
    "        tt = np.linspace(t[0], t[-1], 100)\n",
    "\n",
    "\n",
    "        # Display Original Points and linear interpolation\n",
    "        \n",
    "        ca = np.array(c_plt_char_1)\n",
    "        plt_char_1.plot(ca[:,0], ca[:,1], 'ro-'); #Linear drawing \n",
    "\n",
    "        ## Display interpolated smooth curve \n",
    "        plt_display_smooth.figure('Smooth')\n",
    "        plt_display_smooth.plot([0,3],[0,1], 'w.')\n",
    "\n",
    "        plt_display_smooth.plot(x, y,'ro') #original points (clicks)\n",
    "\n",
    "        plt_display_smooth.plot(x_t(tt),y_t(tt)); #interpolated data/curve\n",
    "    except: \n",
    "        print(\"No more input, terminating\");\n",
    "        break\n",
    "\n",
    "\n",
    "\n"
   ]
  },
  {
   "cell_type": "code",
   "execution_count": null,
   "metadata": {},
   "outputs": [],
   "source": []
  },
  {
   "cell_type": "code",
   "execution_count": null,
   "metadata": {},
   "outputs": [],
   "source": []
  }
 ],
 "metadata": {
  "kernelspec": {
   "display_name": "Python 3 (ipykernel)",
   "language": "python",
   "name": "python3"
  },
  "language_info": {
   "codemirror_mode": {
    "name": "ipython",
    "version": 3
   },
   "file_extension": ".py",
   "mimetype": "text/x-python",
   "name": "python",
   "nbconvert_exporter": "python",
   "pygments_lexer": "ipython3",
   "version": "3.9.12"
  },
  "toc": {
   "nav_menu": {},
   "number_sections": true,
   "sideBar": true,
   "skip_h1_title": false,
   "title_cell": "Table of Contents",
   "title_sidebar": "Contents",
   "toc_cell": false,
   "toc_position": {},
   "toc_section_display": true,
   "toc_window_display": false
  }
 },
 "nbformat": 4,
 "nbformat_minor": 2
}
